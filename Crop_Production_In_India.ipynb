{
  "cells": [
    {
      "cell_type": "code",
      "execution_count": null,
      "metadata": {
        "execution": {
          "iopub.execute_input": "2023-07-06T17:58:39.521182Z",
          "iopub.status.busy": "2023-07-06T17:58:39.519958Z",
          "iopub.status.idle": "2023-07-06T17:58:39.525921Z",
          "shell.execute_reply": "2023-07-06T17:58:39.524806Z",
          "shell.execute_reply.started": "2023-07-06T17:58:39.521135Z"
        },
        "id": "_mXSeT_ZtVs0",
        "trusted": true
      },
      "outputs": [],
      "source": [
        "import numpy as np\n",
        "import pandas as pd\n"
      ]
    },
    {
      "cell_type": "code",
      "execution_count": null,
      "metadata": {
        "execution": {
          "iopub.execute_input": "2023-07-06T17:58:39.887203Z",
          "iopub.status.busy": "2023-07-06T17:58:39.886281Z",
          "iopub.status.idle": "2023-07-06T17:58:40.269948Z",
          "shell.execute_reply": "2023-07-06T17:58:40.268908Z",
          "shell.execute_reply.started": "2023-07-06T17:58:39.887166Z"
        },
        "id": "Db7rCIKehBBj",
        "trusted": true
      },
      "outputs": [],
      "source": [
        "df = pd.read_csv('crop_production.csv')"
      ]
    },
    {
      "cell_type": "code",
      "execution_count": null,
      "metadata": {
        "execution": {
          "iopub.execute_input": "2023-07-06T17:58:40.271878Z",
          "iopub.status.busy": "2023-07-06T17:58:40.271526Z",
          "iopub.status.idle": "2023-07-06T17:58:40.302725Z",
          "shell.execute_reply": "2023-07-06T17:58:40.301727Z",
          "shell.execute_reply.started": "2023-07-06T17:58:40.271837Z"
        },
        "id": "Q-ktdiRzhGhr",
        "trusted": true
      },
      "outputs": [],
      "source": [
        "df = df.rename(columns=lambda x: x.replace(' ', ''))\n",
        "df"
      ]
    },
    {
      "cell_type": "code",
      "execution_count": null,
      "metadata": {
        "execution": {
          "iopub.execute_input": "2023-07-06T17:58:40.480316Z",
          "iopub.status.busy": "2023-07-06T17:58:40.47995Z",
          "iopub.status.idle": "2023-07-06T17:58:40.69069Z",
          "shell.execute_reply": "2023-07-06T17:58:40.689629Z",
          "shell.execute_reply.started": "2023-07-06T17:58:40.480287Z"
        },
        "id": "6rLEvI9DiCC5",
        "trusted": true
      },
      "outputs": [],
      "source": [
        "df.info()"
      ]
    },
    {
      "cell_type": "code",
      "execution_count": null,
      "metadata": {
        "execution": {
          "iopub.execute_input": "2023-07-06T17:58:40.77525Z",
          "iopub.status.busy": "2023-07-06T17:58:40.774876Z",
          "iopub.status.idle": "2023-07-06T17:58:40.844651Z",
          "shell.execute_reply": "2023-07-06T17:58:40.843679Z",
          "shell.execute_reply.started": "2023-07-06T17:58:40.77522Z"
        },
        "id": "gyGtCx-wu4gs",
        "trusted": true
      },
      "outputs": [],
      "source": [
        "df.describe()"
      ]
    },
    {
      "cell_type": "code",
      "execution_count": null,
      "metadata": {
        "execution": {
          "iopub.execute_input": "2023-07-06T17:58:42.832147Z",
          "iopub.status.busy": "2023-07-06T17:58:42.831492Z",
          "iopub.status.idle": "2023-07-06T17:58:42.858552Z",
          "shell.execute_reply": "2023-07-06T17:58:42.857535Z",
          "shell.execute_reply.started": "2023-07-06T17:58:42.832111Z"
        },
        "id": "DpfiSxCKj8HT",
        "trusted": true
      },
      "outputs": [],
      "source": [
        "#checking the states names to find in if their is a data mismatch\n",
        "for state in df[\"State\"].unique():\n",
        "    if state not in state_names:\n",
        "        print(\"State name not found:\", state)"
      ]
    },
    {
      "cell_type": "code",
      "execution_count": null,
      "metadata": {
        "execution": {
          "iopub.execute_input": "2023-07-06T17:58:43.172179Z",
          "iopub.status.busy": "2023-07-06T17:58:43.171443Z",
          "iopub.status.idle": "2023-07-06T17:58:43.178709Z",
          "shell.execute_reply": "2023-07-06T17:58:43.177773Z",
          "shell.execute_reply.started": "2023-07-06T17:58:43.172142Z"
        },
        "id": "WZlicW7ek5w9",
        "trusted": true
      },
      "outputs": [],
      "source": [
        "state_names"
      ]
    },
    {
      "cell_type": "markdown",
      "metadata": {
        "id": "zI00nrfok8Jg"
      },
      "source": [
        "In order to address the multiple issues with the state names, the following steps will be taken:\n",
        "\n",
        "1.  Replace \"and\" with \"&\" in the state names.\n",
        "2.  Convert \"CHANDIGARH\" to lowercase for consistency.\n",
        "3.  Correct the misspelled state name \"Laddak\" to \"Ladakh\".\n",
        "4.  Merge \"Dadra and Nagar Haveli\" and \"Daman and Diu\" into a single region."
      ]
    },
    {
      "cell_type": "code",
      "execution_count": null,
      "metadata": {
        "execution": {
          "iopub.execute_input": "2023-07-06T17:58:44.007182Z",
          "iopub.status.busy": "2023-07-06T17:58:44.00681Z",
          "iopub.status.idle": "2023-07-06T17:58:44.070877Z",
          "shell.execute_reply": "2023-07-06T17:58:44.069845Z",
          "shell.execute_reply.started": "2023-07-06T17:58:44.007155Z"
        },
        "id": "EbDp9vC_mTyY",
        "trusted": true
      },
      "outputs": [],
      "source": [
        "# Before merging \"Dadra and Nagar Haveli\" and \"Daman and Diu\" into one territory, it is important to ensure that the districts clearly separate them.\n",
        "print(df[df['State'] ==\"Daman and Diu\"].head(30))\n",
        "print(df[df['State'] ==\"Dadra and Nagar Haveli\"].head())"
      ]
    },
    {
      "cell_type": "code",
      "execution_count": null,
      "metadata": {
        "execution": {
          "iopub.execute_input": "2023-07-06T17:58:44.846972Z",
          "iopub.status.busy": "2023-07-06T17:58:44.846385Z",
          "iopub.status.idle": "2023-07-06T17:58:45.176367Z",
          "shell.execute_reply": "2023-07-06T17:58:45.175285Z",
          "shell.execute_reply.started": "2023-07-06T17:58:44.846942Z"
        },
        "id": "4HwJeRqkkylz",
        "trusted": true
      },
      "outputs": [],
      "source": [
        "df['State'] = df['State'].str.replace(' and ', ' & ')\n",
        "state_replacements = {\n",
        "    'Andaman & Nicobar Island': 'Andaman & Nicobar',\n",
        "    'Dadra & Nagar Haveli': 'Dadra and Nagar Haveli and Daman and Diu',\n",
        "    'Daman & Diu': 'Dadra and Nagar Haveli and Daman and Diu',\n",
        "    'THE DADRA AND NAGAR HAVELI': 'Dadra and Nagar Haveli and Daman and Diu',\n",
        "    'Laddak': 'Ladakh',\n",
        "    'CHANDIGARH' :'Chandigarh'\n",
        "}\n",
        "df['State'] = df['State'].replace(state_replacements)"
      ]
    },
    {
      "cell_type": "code",
      "execution_count": null,
      "metadata": {
        "execution": {
          "iopub.execute_input": "2023-07-06T17:58:45.231384Z",
          "iopub.status.busy": "2023-07-06T17:58:45.230995Z",
          "iopub.status.idle": "2023-07-06T17:58:45.257998Z",
          "shell.execute_reply": "2023-07-06T17:58:45.256913Z",
          "shell.execute_reply.started": "2023-07-06T17:58:45.231353Z"
        },
        "id": "lSqqOSOQncRU",
        "trusted": true
      },
      "outputs": [],
      "source": [
        "#checking again for data mismatch\n",
        "for state in df[\"State\"].unique():\n",
        "    if state not in state_names:\n",
        "        print(\"State name not found:\", state)"
      ]
    },
    {
      "cell_type": "code",
      "execution_count": null,
      "metadata": {
        "execution": {
          "iopub.execute_input": "2023-07-06T17:58:46.06532Z",
          "iopub.status.busy": "2023-07-06T17:58:46.06473Z",
          "iopub.status.idle": "2023-07-06T17:58:46.278218Z",
          "shell.execute_reply": "2023-07-06T17:58:46.277167Z",
          "shell.execute_reply.started": "2023-07-06T17:58:46.065287Z"
        },
        "id": "5YBBFpTSa8m2",
        "trusted": true
      },
      "outputs": [],
      "source": [
        "df.isnull().sum()"
      ]
    },
    {
      "cell_type": "code",
      "execution_count": null,
      "metadata": {
        "execution": {
          "iopub.execute_input": "2023-07-06T17:58:46.524346Z",
          "iopub.status.busy": "2023-07-06T17:58:46.523899Z",
          "iopub.status.idle": "2023-07-06T17:58:46.582936Z",
          "shell.execute_reply": "2023-07-06T17:58:46.581927Z",
          "shell.execute_reply.started": "2023-07-06T17:58:46.52431Z"
        },
        "id": "wIUD5o7YaZ-B",
        "trusted": true
      },
      "outputs": [],
      "source": [
        "df[df.Crop.isna()]"
      ]
    },
    {
      "cell_type": "code",
      "execution_count": null,
      "metadata": {
        "execution": {
          "iopub.execute_input": "2023-07-06T17:58:46.954661Z",
          "iopub.status.busy": "2023-07-06T17:58:46.954308Z",
          "iopub.status.idle": "2023-07-06T17:58:46.9797Z",
          "shell.execute_reply": "2023-07-06T17:58:46.978918Z",
          "shell.execute_reply.started": "2023-07-06T17:58:46.954634Z"
        },
        "id": "TNPUJFW4b3oo",
        "trusted": true
      },
      "outputs": [],
      "source": [
        "df.Crop.isna().sum()/len(df)"
      ]
    },
    {
      "cell_type": "code",
      "execution_count": null,
      "metadata": {
        "execution": {
          "iopub.execute_input": "2023-07-06T17:58:47.704103Z",
          "iopub.status.busy": "2023-07-06T17:58:47.703713Z",
          "iopub.status.idle": "2023-07-06T17:58:47.797516Z",
          "shell.execute_reply": "2023-07-06T17:58:47.796349Z",
          "shell.execute_reply.started": "2023-07-06T17:58:47.704066Z"
        },
        "id": "WdOt4-yt4AaX",
        "trusted": true
      },
      "outputs": [],
      "source": [
        "df.dropna(subset=['Crop'], inplace=True)"
      ]
    },
    {
      "cell_type": "code",
      "execution_count": null,
      "metadata": {
        "execution": {
          "iopub.execute_input": "2023-07-06T17:58:48.361731Z",
          "iopub.status.busy": "2023-07-06T17:58:48.361365Z",
          "iopub.status.idle": "2023-07-06T17:58:48.369694Z",
          "shell.execute_reply": "2023-07-06T17:58:48.368861Z",
          "shell.execute_reply.started": "2023-07-06T17:58:48.361704Z"
        },
        "id": "mAUpRst7arOt",
        "trusted": true
      },
      "outputs": [],
      "source": [
        "(df.Production.isna().sum()/len(df))*100"
      ]
    },
    {
      "cell_type": "code",
      "execution_count": null,
      "metadata": {
        "execution": {
          "iopub.execute_input": "2023-07-06T17:58:49.771629Z",
          "iopub.status.busy": "2023-07-06T17:58:49.771276Z",
          "iopub.status.idle": "2023-07-06T17:58:49.783677Z",
          "shell.execute_reply": "2023-07-06T17:58:49.782827Z",
          "shell.execute_reply.started": "2023-07-06T17:58:49.771597Z"
        },
        "id": "q3Ba-NWw4sDr",
        "trusted": true
      },
      "outputs": [],
      "source": [
        "production_median = df['Production'].median()\n",
        "df['Production'].fillna(production_median, inplace=True)"
      ]
    },
    {
      "cell_type": "code",
      "execution_count": null,
      "metadata": {
        "execution": {
          "iopub.execute_input": "2023-07-06T17:58:50.204557Z",
          "iopub.status.busy": "2023-07-06T17:58:50.203971Z",
          "iopub.status.idle": "2023-07-06T17:58:50.420982Z",
          "shell.execute_reply": "2023-07-06T17:58:50.419937Z",
          "shell.execute_reply.started": "2023-07-06T17:58:50.204519Z"
        },
        "id": "x3ltqNX29P7F",
        "trusted": true
      },
      "outputs": [],
      "source": [
        "df.isnull().sum()"
      ]
    },
    {
      "cell_type": "code",
      "execution_count": null,
      "metadata": {
        "execution": {
          "iopub.execute_input": "2023-07-06T17:58:51.000438Z",
          "iopub.status.busy": "2023-07-06T17:58:50.999818Z",
          "iopub.status.idle": "2023-07-06T17:58:51.007514Z",
          "shell.execute_reply": "2023-07-06T17:58:51.00642Z",
          "shell.execute_reply.started": "2023-07-06T17:58:51.0004Z"
        },
        "id": "Hktx_YL-Bdum",
        "trusted": true
      },
      "outputs": [],
      "source": [
        "df.columns"
      ]
    },
    {
      "cell_type": "code",
      "execution_count": null,
      "metadata": {
        "execution": {
          "iopub.execute_input": "2023-07-06T17:58:51.486487Z",
          "iopub.status.busy": "2023-07-06T17:58:51.486121Z",
          "iopub.status.idle": "2023-07-06T17:58:51.49181Z",
          "shell.execute_reply": "2023-07-06T17:58:51.490706Z",
          "shell.execute_reply.started": "2023-07-06T17:58:51.486461Z"
        },
        "id": "dpdY6WhbRD5i",
        "trusted": true
      },
      "outputs": [],
      "source": [
        "cat = ['State', 'District', 'Crop', 'Season']\n",
        "num = ['Crop_Year' ,'Area', 'Production', 'Yield']"
      ]
    },
    {
      "cell_type": "code",
      "execution_count": null,
      "metadata": {
        "execution": {
          "iopub.execute_input": "2023-07-06T17:58:52.518352Z",
          "iopub.status.busy": "2023-07-06T17:58:52.517984Z",
          "iopub.status.idle": "2023-07-06T17:58:52.651619Z",
          "shell.execute_reply": "2023-07-06T17:58:52.650238Z",
          "shell.execute_reply.started": "2023-07-06T17:58:52.518325Z"
        },
        "id": "9W-Kr6GltVs3",
        "trusted": true
      },
      "outputs": [],
      "source": [
        "from plotly.offline import  init_notebook_mode, iplot\n",
        "init_notebook_mode(connected = True)"
      ]
    },
    {
      "cell_type": "code",
      "execution_count": null,
      "metadata": {
        "execution": {
          "iopub.execute_input": "2023-07-06T17:58:52.946352Z",
          "iopub.status.busy": "2023-07-06T17:58:52.945222Z",
          "iopub.status.idle": "2023-07-06T17:59:04.713447Z",
          "shell.execute_reply": "2023-07-06T17:59:04.711486Z",
          "shell.execute_reply.started": "2023-07-06T17:58:52.946317Z"
        },
        "id": "aaC-xVQ8zPMw",
        "trusted": true
      },
      "outputs": [],
      "source": [
        "import plotly.express as px\n",
        "for att in cat:\n",
        "    fig = px.histogram(df, x=att, title=att,color=att)\n",
        "    fig.update_layout(height=600,xaxis_title='', yaxis_title='Count',showlegend=False)\n",
        "    fig.show()"
      ]
    },
    {
      "cell_type": "markdown",
      "metadata": {
        "id": "pEEPwHim4VXX"
      },
      "source": [
        "let's also visualizing the district counts by state, it will give us an overview of how the districts are distributed across different states. This can help us identify states with a higher number of districts and states with fewer districts."
      ]
    },
    {
      "cell_type": "code",
      "execution_count": null,
      "metadata": {
        "execution": {
          "iopub.execute_input": "2023-07-06T17:59:04.715665Z",
          "iopub.status.busy": "2023-07-06T17:59:04.715207Z",
          "iopub.status.idle": "2023-07-06T17:59:05.005303Z",
          "shell.execute_reply": "2023-07-06T17:59:05.004241Z",
          "shell.execute_reply.started": "2023-07-06T17:59:04.715622Z"
        },
        "id": "fxd04xDX1nBB",
        "trusted": true
      },
      "outputs": [],
      "source": [
        "state_counts = df.groupby('State')['District'].nunique().reset_index()\n",
        "fig = px.bar(state_counts, x='State', y='District', color='State',\n",
        "             title='District Counts by State', labels={'State': 'State', 'District': 'District Count'})\n",
        "fig.update_layout(height=600, showlegend=False)\n",
        "fig.show()\n"
      ]
    },
    {
      "cell_type": "code",
      "execution_count": null,
      "metadata": {
        "execution": {
          "iopub.execute_input": "2023-07-06T17:59:05.007177Z",
          "iopub.status.busy": "2023-07-06T17:59:05.006837Z"
        },
        "id": "Y5MK5DPDBvtm",
        "trusted": true
      },
      "outputs": [],
      "source": [
        "for att in num:\n",
        "    fig = px.histogram(df, x=att)\n",
        "    fig.update_layout(title=att, title_font_size=20)\n",
        "    fig.update_layout(height=400, showlegend=False, xaxis_title='')\n",
        "    fig.show()\n",
        "    fig = px.box(df, x=att, orientation='h')\n",
        "    fig.update_layout(height=400, showlegend=False, xaxis_title='')\n",
        "    fig.show()\n"
      ]
    },
    {
      "cell_type": "code",
      "execution_count": null,
      "metadata": {
        "execution": {
          "iopub.execute_input": "2023-06-14T13:09:42.848155Z",
          "iopub.status.busy": "2023-06-14T13:09:42.847751Z",
          "iopub.status.idle": "2023-06-14T13:09:42.9429Z",
          "shell.execute_reply": "2023-06-14T13:09:42.940641Z",
          "shell.execute_reply.started": "2023-06-14T13:09:42.848124Z"
        },
        "id": "B73FvPB57LJp",
        "trusted": true
      },
      "outputs": [],
      "source": [
        "crop_counts = df.groupby(['State', 'Crop']).size().reset_index(name='Count')\n",
        "most_common_crop = crop_counts.groupby('State').apply(lambda x: x.loc[x['Count'].idxmax()]).reset_index(drop=True)"
      ]
    },
    {
      "cell_type": "code",
      "execution_count": null,
      "metadata": {
        "execution": {
          "iopub.execute_input": "2023-06-14T13:09:52.199645Z",
          "iopub.status.busy": "2023-06-14T13:09:52.199298Z",
          "iopub.status.idle": "2023-06-14T13:09:52.212357Z",
          "shell.execute_reply": "2023-06-14T13:09:52.211481Z",
          "shell.execute_reply.started": "2023-06-14T13:09:52.199619Z"
        },
        "id": "j-un3YBTRomU",
        "trusted": true
      },
      "outputs": [],
      "source": [
        "most_common_crop"
      ]
    },
    {
      "cell_type": "code",
      "execution_count": null,
      "metadata": {
        "execution": {
          "iopub.execute_input": "2023-06-14T13:12:55.066413Z",
          "iopub.status.busy": "2023-06-14T13:12:55.065403Z",
          "iopub.status.idle": "2023-06-14T13:12:55.168479Z",
          "shell.execute_reply": "2023-06-14T13:12:55.167355Z",
          "shell.execute_reply.started": "2023-06-14T13:12:55.066376Z"
        },
        "id": "q9-81NmqF-d4",
        "trusted": true
      },
      "outputs": [],
      "source": [
        "fig = px.choropleth(\n",
        "    most_common_crop,\n",
        "    geojson=geojson_url,\n",
        "    featureidkey='properties.ST_NM',\n",
        "    locations='State',\n",
        "    color='Crop'\n",
        ")\n",
        "\n",
        "fig.update_geos(fitbounds=\"locations\", visible=False)\n",
        "fig.update_layout(\n",
        "    title_text='Most Commonly Grown Crops in India by State',\n",
        "    title_x=0.5,\n",
        "    title_y=0.9,\n",
        "    title_font=dict(size=24),\n",
        "    margin={'l': 0, 'r': 0, 't': 30, 'b': 0},\n",
        "    height=600,\n",
        "    width=1000,\n",
        "    autosize=True,\n",
        ")\n",
        "fig.show()"
      ]
    },
    {
      "cell_type": "code",
      "execution_count": null,
      "metadata": {
        "execution": {
          "iopub.execute_input": "2023-06-14T13:13:15.309728Z",
          "iopub.status.busy": "2023-06-14T13:13:15.309376Z",
          "iopub.status.idle": "2023-06-14T13:13:15.381622Z",
          "shell.execute_reply": "2023-06-14T13:13:15.380732Z",
          "shell.execute_reply.started": "2023-06-14T13:13:15.309701Z"
        },
        "id": "2wMNoE9feYnW",
        "trusted": true
      },
      "outputs": [],
      "source": [
        "season_production = df.groupby(['Crop', 'Season'])['Production'].sum().reset_index()"
      ]
    },
    {
      "cell_type": "code",
      "execution_count": null,
      "metadata": {
        "execution": {
          "iopub.execute_input": "2023-06-14T13:13:15.919587Z",
          "iopub.status.busy": "2023-06-14T13:13:15.919246Z",
          "iopub.status.idle": "2023-06-14T13:13:15.924625Z",
          "shell.execute_reply": "2023-06-14T13:13:15.923684Z",
          "shell.execute_reply.started": "2023-06-14T13:13:15.919562Z"
        },
        "id": "Nd5NdoJ3S6MZ",
        "trusted": true
      },
      "outputs": [],
      "source": [
        "season_list =season_production.Season.unique()"
      ]
    },
    {
      "cell_type": "code",
      "execution_count": null,
      "metadata": {
        "execution": {
          "iopub.execute_input": "2023-06-14T13:13:20.093552Z",
          "iopub.status.busy": "2023-06-14T13:13:20.093205Z",
          "iopub.status.idle": "2023-06-14T13:13:20.43917Z",
          "shell.execute_reply": "2023-06-14T13:13:20.438244Z",
          "shell.execute_reply.started": "2023-06-14T13:13:20.093526Z"
        },
        "id": "AYG6PbNfUFic",
        "trusted": true
      },
      "outputs": [],
      "source": [
        "# Filter the data for the winter season\n",
        "for i in season_list:\n",
        "  mask =season_production[season_production.Season == i]\n",
        "  mask=mask.sort_values('Production', ascending=False)\n",
        "  top_crops = mask.head(10)\n",
        "  fig = px.bar(top_crops, x='Crop', y='Production', title= 'Highest Crop Production in {}'.format(i))\n",
        "  fig.show()"
      ]
    },
    {
      "cell_type": "code",
      "execution_count": null,
      "metadata": {
        "execution": {
          "iopub.execute_input": "2023-06-14T13:13:31.040881Z",
          "iopub.status.busy": "2023-06-14T13:13:31.04052Z",
          "iopub.status.idle": "2023-06-14T13:13:31.110468Z",
          "shell.execute_reply": "2023-06-14T13:13:31.109713Z",
          "shell.execute_reply.started": "2023-06-14T13:13:31.040854Z"
        },
        "id": "qM2126dFqXe3",
        "trusted": true
      },
      "outputs": [],
      "source": [
        "state_production = df.groupby(['State','Season'])['Production'].sum().reset_index()"
      ]
    },
    {
      "cell_type": "code",
      "execution_count": null,
      "metadata": {
        "execution": {
          "iopub.execute_input": "2023-06-14T13:13:33.469451Z",
          "iopub.status.busy": "2023-06-14T13:13:33.469091Z",
          "iopub.status.idle": "2023-06-14T13:13:33.740223Z",
          "shell.execute_reply": "2023-06-14T13:13:33.739275Z",
          "shell.execute_reply.started": "2023-06-14T13:13:33.469422Z"
        },
        "id": "QH4fSMkVe4Zj",
        "trusted": true
      },
      "outputs": [],
      "source": [
        "fig = px.choropleth(\n",
        "    state_production[state_production.Season=='Whole Year '],\n",
        "    geojson=geojson_url,\n",
        "    featureidkey='properties.ST_NM',\n",
        "    locations='State',\n",
        "    color='Production',color_continuous_scale= 'YlOrRd'\n",
        ")\n",
        "\n",
        "fig.update_geos(fitbounds=\"locations\", visible=False)\n",
        "fig.update_layout(\n",
        "    title_text='production throughout the whole year by state',\n",
        "    title_x=0.5,\n",
        "    title_y=0.9,\n",
        "    title_font=dict(size=24),\n",
        "    margin={'l': 0, 'r': 0, 't': 30, 'b': 0},\n",
        "    height=600,\n",
        "    width=1000,\n",
        "    autosize=True,\n",
        ")\n",
        "\n",
        "# Display the interactive map\n",
        "fig.show()\n"
      ]
    },
    {
      "cell_type": "code",
      "execution_count": null,
      "metadata": {
        "execution": {
          "iopub.execute_input": "2023-06-14T13:14:30.69169Z",
          "iopub.status.busy": "2023-06-14T13:14:30.691256Z",
          "iopub.status.idle": "2023-06-14T13:14:30.779833Z",
          "shell.execute_reply": "2023-06-14T13:14:30.778952Z",
          "shell.execute_reply.started": "2023-06-14T13:14:30.691663Z"
        },
        "id": "jy8iXXLbtAkX",
        "trusted": true
      },
      "outputs": [],
      "source": [
        "fig = px.choropleth(\n",
        "    state_production,\n",
        "    geojson=geojson_url,\n",
        "    featureidkey='properties.ST_NM',\n",
        "    locations='State',\n",
        "    animation_frame='Season',\n",
        "    color='Production',color_continuous_scale= 'YlOrRd'\n",
        ")\n",
        "\n",
        "fig.update_geos(fitbounds=\"locations\", visible=False)\n",
        "fig.update_layout(\n",
        "    title_text='Production for each season by State',\n",
        "    title_x=0.5,\n",
        "    title_y=0.9,\n",
        "    title_font=dict(size=24),\n",
        "    margin={'l': 0, 'r': 0, 't':120, 'b': 0},\n",
        "    height=500,\n",
        "    width=800,\n",
        "    autosize=True,\n",
        ")\n",
        "\n",
        "# Display the interactive map\n",
        "fig.show()"
      ]
    },
    {
      "cell_type": "code",
      "execution_count": null,
      "metadata": {
        "execution": {
          "iopub.execute_input": "2023-06-14T13:14:30.900384Z",
          "iopub.status.busy": "2023-06-14T13:14:30.900047Z",
          "iopub.status.idle": "2023-06-14T13:14:31.050963Z",
          "shell.execute_reply": "2023-06-14T13:14:31.050077Z",
          "shell.execute_reply.started": "2023-06-14T13:14:30.900356Z"
        },
        "id": "rWp3uKNACO46",
        "trusted": true
      },
      "outputs": [],
      "source": [
        "crop_seasons = df[df['Season'] != 'Whole Year ']\n",
        "season_production = crop_seasons.groupby('Season')['Production'].sum().reset_index()\n",
        "fig = px.pie(season_production, values='Production', names='Season', title='Percentage of Production for Crops in Each Season')\n",
        "fig.show()\n"
      ]
    },
    {
      "cell_type": "code",
      "execution_count": null,
      "metadata": {
        "execution": {
          "iopub.execute_input": "2023-06-14T13:14:31.63349Z",
          "iopub.status.busy": "2023-06-14T13:14:31.63311Z",
          "iopub.status.idle": "2023-06-14T13:14:31.681561Z",
          "shell.execute_reply": "2023-06-14T13:14:31.680521Z",
          "shell.execute_reply.started": "2023-06-14T13:14:31.633459Z"
        },
        "id": "HldUPFr8PZeI",
        "trusted": true
      },
      "outputs": [],
      "source": [
        "state_production_per_year = df.groupby(['State', 'Crop_Year'])['Production'].sum().reset_index()\n",
        "state_production_per_year = state_production_per_year.sort_values('Crop_Year')"
      ]
    },
    {
      "cell_type": "code",
      "execution_count": null,
      "metadata": {
        "execution": {
          "iopub.execute_input": "2023-06-14T13:14:32.666507Z",
          "iopub.status.busy": "2023-06-14T13:14:32.666059Z",
          "iopub.status.idle": "2023-06-14T13:14:32.814611Z",
          "shell.execute_reply": "2023-06-14T13:14:32.813671Z",
          "shell.execute_reply.started": "2023-06-14T13:14:32.666461Z"
        },
        "id": "MDLEYsamL9_1",
        "trusted": true
      },
      "outputs": [],
      "source": [
        "fig = px.choropleth(\n",
        "    state_production_per_year,\n",
        "    geojson=geojson_url,\n",
        "    featureidkey='properties.ST_NM',\n",
        "    locations='State',\n",
        "    animation_frame='Crop_Year',\n",
        "    color='Production',\n",
        "    color_continuous_scale='YlOrRd'\n",
        ")\n",
        "\n",
        "fig.update_geos(fitbounds=\"locations\", visible=False)\n",
        "fig.update_layout(\n",
        "    title_text='Crop Production Over the Years by State',\n",
        "    title_x=0.5,\n",
        "    title_y=0.9,\n",
        "    title_font=dict(size=24),\n",
        "    margin={'l': 0, 'r': 0, 't': 30, 'b': 0},\n",
        "    height=600,\n",
        "    width=800,\n",
        "    autosize=True\n",
        ")\n",
        "\n",
        "# Display the interactive map with animation\n",
        "fig.show()\n"
      ]
    },
    {
      "cell_type": "code",
      "execution_count": null,
      "metadata": {
        "execution": {
          "iopub.execute_input": "2023-06-14T13:14:33.44323Z",
          "iopub.status.busy": "2023-06-14T13:14:33.442887Z",
          "iopub.status.idle": "2023-06-14T13:14:33.640498Z",
          "shell.execute_reply": "2023-06-14T13:14:33.639533Z",
          "shell.execute_reply.started": "2023-06-14T13:14:33.443205Z"
        },
        "id": "9yn3HCvSGX1P",
        "trusted": true
      },
      "outputs": [],
      "source": [
        "fig = px.line(state_production_per_year, x='Crop_Year', y='Production', color='State',\n",
        "              title='Production Changes in Each State Over the Years')\n",
        "fig.show()\n"
      ]
    },
    {
      "cell_type": "code",
      "execution_count": null,
      "metadata": {
        "execution": {
          "iopub.execute_input": "2023-06-14T13:14:34.359508Z",
          "iopub.status.busy": "2023-06-14T13:14:34.359163Z",
          "iopub.status.idle": "2023-06-14T13:14:34.433676Z",
          "shell.execute_reply": "2023-06-14T13:14:34.432774Z",
          "shell.execute_reply.started": "2023-06-14T13:14:34.359483Z"
        },
        "id": "7CnXZ2dNXWRV",
        "trusted": true
      },
      "outputs": [],
      "source": [
        "yearly_production = df.groupby('Crop_Year')['Production'].sum().reset_index()\n",
        "max_production_year = yearly_production.loc[yearly_production['Production'].idxmax(), 'Crop_Year']\n",
        "fig = px.bar(yearly_production, x='Crop_Year', y='Production',\n",
        "             title='Overall Production by Year')\n",
        "fig.update_layout(xaxis_title='Year', yaxis_title='Production')\n",
        "fig.add_annotation(x=max_production_year, y=yearly_production['Production'].max(),\n",
        "                   text='Max Production Year', showarrow=True, arrowhead=1)\n",
        "fig.show()\n"
      ]
    }
  ],
  "metadata": {
    "colab": {
      "provenance": []
    },
    "kernelspec": {
      "display_name": "Python 3",
      "language": "python",
      "name": "python3"
    },
    "language_info": {
      "codemirror_mode": {
        "name": "ipython",
        "version": 3
      },
      "file_extension": ".py",
      "mimetype": "text/x-python",
      "name": "python",
      "nbconvert_exporter": "python",
      "pygments_lexer": "ipython3",
      "version": "3.11.5"
    }
  },
  "nbformat": 4,
  "nbformat_minor": 0
}